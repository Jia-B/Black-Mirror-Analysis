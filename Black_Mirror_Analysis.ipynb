{
  "nbformat": 4,
  "nbformat_minor": 0,
  "metadata": {
    "colab": {
      "provenance": []
    },
    "kernelspec": {
      "name": "python3",
      "display_name": "Python 3"
    },
    "language_info": {
      "name": "python"
    }
  },
  "cells": [
    {
      "cell_type": "markdown",
      "source": [
        "# Black Mirror Database"
      ],
      "metadata": {
        "id": "phMQ9f8Me5fe"
      }
    },
    {
      "cell_type": "markdown",
      "source": [
        "By Jia Bloom | Date: 6/30/23"
      ],
      "metadata": {
        "id": "YycFhz8dRdO7"
      }
    },
    {
      "cell_type": "markdown",
      "source": [
        "The goal of this notebook is to analyze data about *Black Mirror* episodes. To do this, **summary statistics** will be calculated, and the **relationship between variables** will be explored, such as between my rating and IMDb's rating of an episode. Additionally, **visualizations** will be created to illustrate the distribution of the data and the relationship between variables."
      ],
      "metadata": {
        "id": "vSDvhIoVfFTC"
      }
    },
    {
      "cell_type": "markdown",
      "source": [
        "This dataset contains the following information:\n",
        "\n",
        "\n",
        "*   `id`: original primary key of the table\n",
        "*   `season`: season number\n",
        "*   `episode`: episode number\n",
        "*   `title`: episode title\n",
        "*   `release_date`: when the episode aired\n",
        "*   `length_min`: how long the episode is in minutes\n",
        "*   `my_rating`: how much I liked the episode on a 1.0 to 10.0 scale\n",
        "*   `imdb_rating`: episode average of IMDb user reviews on a 1.0 to 10.0 scale\n",
        "*   `timeframe`: whether the episode took place in the past, present, or future\n",
        "*   `network`: whether the episode aired on Channel 4 or Netflix\n",
        "*   `director`: person who directed the episode\n",
        "*   `description`: episode description from IMDb\n"
      ],
      "metadata": {
        "id": "a_oZgTdhsc0T"
      }
    },
    {
      "cell_type": "markdown",
      "source": [
        "## Setting Up Environment & Importing Data"
      ],
      "metadata": {
        "id": "GPRudFFvdvIr"
      }
    },
    {
      "cell_type": "code",
      "source": [
        "# setting up environment\n",
        "import numpy as np\n",
        "import pandas as pd\n",
        "import matplotlib.pyplot as plt\n",
        "import datetime as dt\n",
        "from scipy.stats import pearsonr"
      ],
      "metadata": {
        "id": "nztHnZw_iU89"
      },
      "execution_count": null,
      "outputs": []
    },
    {
      "cell_type": "code",
      "source": [
        "# import data from csv\n",
        "bm = pd.read_csv('Joined.csv')"
      ],
      "metadata": {
        "id": "2IpUJav5iVXP"
      },
      "execution_count": null,
      "outputs": []
    },
    {
      "cell_type": "markdown",
      "source": [
        "## Previewing & Cleaning Data"
      ],
      "metadata": {
        "id": "BsoNY4-Zd4dF"
      }
    },
    {
      "cell_type": "code",
      "source": [
        "# preview the data\n",
        "bm.head()"
      ],
      "metadata": {
        "colab": {
          "base_uri": "https://localhost:8080/",
          "height": 441
        },
        "id": "zfC9vS3WjxcU",
        "outputId": "317530b1-3506-4b05-c004-78c1ade8d357"
      },
      "execution_count": null,
      "outputs": [
        {
          "output_type": "execute_result",
          "data": {
            "text/plain": [
              "   id  season  episode                      title release_date  length_min  \\\n",
              "0   1       1        1        The National Anthem   2011-12-04          44   \n",
              "1   2       1        2     Fifteen Million Merits   2011-12-11          62   \n",
              "2   3       1        3  The Entire History of You   2011-12-18          49   \n",
              "3   4       2        1              Be Right Back   2013-02-11          49   \n",
              "4   5       2        2                 White Bear   2013-02-18          42   \n",
              "\n",
              "   my_rating  imdb_rating     name     name.1         name.2  \\\n",
              "0        4.5          7.7  present  Channel 4  Otto Bathurst   \n",
              "1        8.8          8.0   future  Channel 4      Euros Lyn   \n",
              "2        9.3          8.5   future  Channel 4    Brian Welsh   \n",
              "3        7.7          8.0   future  Channel 4    Owen Harris   \n",
              "4        6.7          8.0   future  Channel 4  Carl Tibbetts   \n",
              "\n",
              "                                         description  \n",
              "0  Prime Minister Michael Callow faces a shocking...  \n",
              "1  In a world where people's lives consist of rid...  \n",
              "2  In the near future, everyone has access to a m...  \n",
              "3  After learning about a new service that lets p...  \n",
              "4  Victoria wakes up and cannot remember anything...  "
            ],
            "text/html": [
              "\n",
              "  <div id=\"df-2a609423-c919-4496-8f46-78939a48063d\">\n",
              "    <div class=\"colab-df-container\">\n",
              "      <div>\n",
              "<style scoped>\n",
              "    .dataframe tbody tr th:only-of-type {\n",
              "        vertical-align: middle;\n",
              "    }\n",
              "\n",
              "    .dataframe tbody tr th {\n",
              "        vertical-align: top;\n",
              "    }\n",
              "\n",
              "    .dataframe thead th {\n",
              "        text-align: right;\n",
              "    }\n",
              "</style>\n",
              "<table border=\"1\" class=\"dataframe\">\n",
              "  <thead>\n",
              "    <tr style=\"text-align: right;\">\n",
              "      <th></th>\n",
              "      <th>id</th>\n",
              "      <th>season</th>\n",
              "      <th>episode</th>\n",
              "      <th>title</th>\n",
              "      <th>release_date</th>\n",
              "      <th>length_min</th>\n",
              "      <th>my_rating</th>\n",
              "      <th>imdb_rating</th>\n",
              "      <th>name</th>\n",
              "      <th>name.1</th>\n",
              "      <th>name.2</th>\n",
              "      <th>description</th>\n",
              "    </tr>\n",
              "  </thead>\n",
              "  <tbody>\n",
              "    <tr>\n",
              "      <th>0</th>\n",
              "      <td>1</td>\n",
              "      <td>1</td>\n",
              "      <td>1</td>\n",
              "      <td>The National Anthem</td>\n",
              "      <td>2011-12-04</td>\n",
              "      <td>44</td>\n",
              "      <td>4.5</td>\n",
              "      <td>7.7</td>\n",
              "      <td>present</td>\n",
              "      <td>Channel 4</td>\n",
              "      <td>Otto Bathurst</td>\n",
              "      <td>Prime Minister Michael Callow faces a shocking...</td>\n",
              "    </tr>\n",
              "    <tr>\n",
              "      <th>1</th>\n",
              "      <td>2</td>\n",
              "      <td>1</td>\n",
              "      <td>2</td>\n",
              "      <td>Fifteen Million Merits</td>\n",
              "      <td>2011-12-11</td>\n",
              "      <td>62</td>\n",
              "      <td>8.8</td>\n",
              "      <td>8.0</td>\n",
              "      <td>future</td>\n",
              "      <td>Channel 4</td>\n",
              "      <td>Euros Lyn</td>\n",
              "      <td>In a world where people's lives consist of rid...</td>\n",
              "    </tr>\n",
              "    <tr>\n",
              "      <th>2</th>\n",
              "      <td>3</td>\n",
              "      <td>1</td>\n",
              "      <td>3</td>\n",
              "      <td>The Entire History of You</td>\n",
              "      <td>2011-12-18</td>\n",
              "      <td>49</td>\n",
              "      <td>9.3</td>\n",
              "      <td>8.5</td>\n",
              "      <td>future</td>\n",
              "      <td>Channel 4</td>\n",
              "      <td>Brian Welsh</td>\n",
              "      <td>In the near future, everyone has access to a m...</td>\n",
              "    </tr>\n",
              "    <tr>\n",
              "      <th>3</th>\n",
              "      <td>4</td>\n",
              "      <td>2</td>\n",
              "      <td>1</td>\n",
              "      <td>Be Right Back</td>\n",
              "      <td>2013-02-11</td>\n",
              "      <td>49</td>\n",
              "      <td>7.7</td>\n",
              "      <td>8.0</td>\n",
              "      <td>future</td>\n",
              "      <td>Channel 4</td>\n",
              "      <td>Owen Harris</td>\n",
              "      <td>After learning about a new service that lets p...</td>\n",
              "    </tr>\n",
              "    <tr>\n",
              "      <th>4</th>\n",
              "      <td>5</td>\n",
              "      <td>2</td>\n",
              "      <td>2</td>\n",
              "      <td>White Bear</td>\n",
              "      <td>2013-02-18</td>\n",
              "      <td>42</td>\n",
              "      <td>6.7</td>\n",
              "      <td>8.0</td>\n",
              "      <td>future</td>\n",
              "      <td>Channel 4</td>\n",
              "      <td>Carl Tibbetts</td>\n",
              "      <td>Victoria wakes up and cannot remember anything...</td>\n",
              "    </tr>\n",
              "  </tbody>\n",
              "</table>\n",
              "</div>\n",
              "      <button class=\"colab-df-convert\" onclick=\"convertToInteractive('df-2a609423-c919-4496-8f46-78939a48063d')\"\n",
              "              title=\"Convert this dataframe to an interactive table.\"\n",
              "              style=\"display:none;\">\n",
              "        \n",
              "  <svg xmlns=\"http://www.w3.org/2000/svg\" height=\"24px\"viewBox=\"0 0 24 24\"\n",
              "       width=\"24px\">\n",
              "    <path d=\"M0 0h24v24H0V0z\" fill=\"none\"/>\n",
              "    <path d=\"M18.56 5.44l.94 2.06.94-2.06 2.06-.94-2.06-.94-.94-2.06-.94 2.06-2.06.94zm-11 1L8.5 8.5l.94-2.06 2.06-.94-2.06-.94L8.5 2.5l-.94 2.06-2.06.94zm10 10l.94 2.06.94-2.06 2.06-.94-2.06-.94-.94-2.06-.94 2.06-2.06.94z\"/><path d=\"M17.41 7.96l-1.37-1.37c-.4-.4-.92-.59-1.43-.59-.52 0-1.04.2-1.43.59L10.3 9.45l-7.72 7.72c-.78.78-.78 2.05 0 2.83L4 21.41c.39.39.9.59 1.41.59.51 0 1.02-.2 1.41-.59l7.78-7.78 2.81-2.81c.8-.78.8-2.07 0-2.86zM5.41 20L4 18.59l7.72-7.72 1.47 1.35L5.41 20z\"/>\n",
              "  </svg>\n",
              "      </button>\n",
              "      \n",
              "  <style>\n",
              "    .colab-df-container {\n",
              "      display:flex;\n",
              "      flex-wrap:wrap;\n",
              "      gap: 12px;\n",
              "    }\n",
              "\n",
              "    .colab-df-convert {\n",
              "      background-color: #E8F0FE;\n",
              "      border: none;\n",
              "      border-radius: 50%;\n",
              "      cursor: pointer;\n",
              "      display: none;\n",
              "      fill: #1967D2;\n",
              "      height: 32px;\n",
              "      padding: 0 0 0 0;\n",
              "      width: 32px;\n",
              "    }\n",
              "\n",
              "    .colab-df-convert:hover {\n",
              "      background-color: #E2EBFA;\n",
              "      box-shadow: 0px 1px 2px rgba(60, 64, 67, 0.3), 0px 1px 3px 1px rgba(60, 64, 67, 0.15);\n",
              "      fill: #174EA6;\n",
              "    }\n",
              "\n",
              "    [theme=dark] .colab-df-convert {\n",
              "      background-color: #3B4455;\n",
              "      fill: #D2E3FC;\n",
              "    }\n",
              "\n",
              "    [theme=dark] .colab-df-convert:hover {\n",
              "      background-color: #434B5C;\n",
              "      box-shadow: 0px 1px 3px 1px rgba(0, 0, 0, 0.15);\n",
              "      filter: drop-shadow(0px 1px 2px rgba(0, 0, 0, 0.3));\n",
              "      fill: #FFFFFF;\n",
              "    }\n",
              "  </style>\n",
              "\n",
              "      <script>\n",
              "        const buttonEl =\n",
              "          document.querySelector('#df-2a609423-c919-4496-8f46-78939a48063d button.colab-df-convert');\n",
              "        buttonEl.style.display =\n",
              "          google.colab.kernel.accessAllowed ? 'block' : 'none';\n",
              "\n",
              "        async function convertToInteractive(key) {\n",
              "          const element = document.querySelector('#df-2a609423-c919-4496-8f46-78939a48063d');\n",
              "          const dataTable =\n",
              "            await google.colab.kernel.invokeFunction('convertToInteractive',\n",
              "                                                     [key], {});\n",
              "          if (!dataTable) return;\n",
              "\n",
              "          const docLinkHtml = 'Like what you see? Visit the ' +\n",
              "            '<a target=\"_blank\" href=https://colab.research.google.com/notebooks/data_table.ipynb>data table notebook</a>'\n",
              "            + ' to learn more about interactive tables.';\n",
              "          element.innerHTML = '';\n",
              "          dataTable['output_type'] = 'display_data';\n",
              "          await google.colab.output.renderOutput(dataTable, element);\n",
              "          const docLink = document.createElement('div');\n",
              "          docLink.innerHTML = docLinkHtml;\n",
              "          element.appendChild(docLink);\n",
              "        }\n",
              "      </script>\n",
              "    </div>\n",
              "  </div>\n",
              "  "
            ]
          },
          "metadata": {},
          "execution_count": 4
        }
      ]
    },
    {
      "cell_type": "code",
      "source": [
        "# change the columns 'name', 'name.1', and 'name.2' to be more descriptive\n",
        "new_names = {'name': 'timeframe', 'name.1': 'network', 'name.2': 'director'}\n",
        "bm.rename(columns = new_names, inplace = True)\n",
        "\n",
        "# delete id (index serves same purpose)\n",
        "del bm['id']"
      ],
      "metadata": {
        "id": "pFOGWlVxj1Ln"
      },
      "execution_count": null,
      "outputs": []
    },
    {
      "cell_type": "code",
      "source": [
        "# check changes\n",
        "bm.head()"
      ],
      "metadata": {
        "colab": {
          "base_uri": "https://localhost:8080/",
          "height": 493
        },
        "id": "6b0IBooMkXqW",
        "outputId": "e65493a0-d665-4a30-d3e0-71ecf5245a0f"
      },
      "execution_count": null,
      "outputs": [
        {
          "output_type": "execute_result",
          "data": {
            "text/plain": [
              "   season  episode                      title release_date  length_min  \\\n",
              "0       1        1        The National Anthem   2011-12-04          44   \n",
              "1       1        2     Fifteen Million Merits   2011-12-11          62   \n",
              "2       1        3  The Entire History of You   2011-12-18          49   \n",
              "3       2        1              Be Right Back   2013-02-11          49   \n",
              "4       2        2                 White Bear   2013-02-18          42   \n",
              "\n",
              "   my_rating  imdb_rating timeframe    network       director  \\\n",
              "0        4.5          7.7   present  Channel 4  Otto Bathurst   \n",
              "1        8.8          8.0    future  Channel 4      Euros Lyn   \n",
              "2        9.3          8.5    future  Channel 4    Brian Welsh   \n",
              "3        7.7          8.0    future  Channel 4    Owen Harris   \n",
              "4        6.7          8.0    future  Channel 4  Carl Tibbetts   \n",
              "\n",
              "                                         description  \n",
              "0  Prime Minister Michael Callow faces a shocking...  \n",
              "1  In a world where people's lives consist of rid...  \n",
              "2  In the near future, everyone has access to a m...  \n",
              "3  After learning about a new service that lets p...  \n",
              "4  Victoria wakes up and cannot remember anything...  "
            ],
            "text/html": [
              "\n",
              "  <div id=\"df-54ae00f7-8904-4c7a-be4b-9d9e8db8359e\">\n",
              "    <div class=\"colab-df-container\">\n",
              "      <div>\n",
              "<style scoped>\n",
              "    .dataframe tbody tr th:only-of-type {\n",
              "        vertical-align: middle;\n",
              "    }\n",
              "\n",
              "    .dataframe tbody tr th {\n",
              "        vertical-align: top;\n",
              "    }\n",
              "\n",
              "    .dataframe thead th {\n",
              "        text-align: right;\n",
              "    }\n",
              "</style>\n",
              "<table border=\"1\" class=\"dataframe\">\n",
              "  <thead>\n",
              "    <tr style=\"text-align: right;\">\n",
              "      <th></th>\n",
              "      <th>season</th>\n",
              "      <th>episode</th>\n",
              "      <th>title</th>\n",
              "      <th>release_date</th>\n",
              "      <th>length_min</th>\n",
              "      <th>my_rating</th>\n",
              "      <th>imdb_rating</th>\n",
              "      <th>timeframe</th>\n",
              "      <th>network</th>\n",
              "      <th>director</th>\n",
              "      <th>description</th>\n",
              "    </tr>\n",
              "  </thead>\n",
              "  <tbody>\n",
              "    <tr>\n",
              "      <th>0</th>\n",
              "      <td>1</td>\n",
              "      <td>1</td>\n",
              "      <td>The National Anthem</td>\n",
              "      <td>2011-12-04</td>\n",
              "      <td>44</td>\n",
              "      <td>4.5</td>\n",
              "      <td>7.7</td>\n",
              "      <td>present</td>\n",
              "      <td>Channel 4</td>\n",
              "      <td>Otto Bathurst</td>\n",
              "      <td>Prime Minister Michael Callow faces a shocking...</td>\n",
              "    </tr>\n",
              "    <tr>\n",
              "      <th>1</th>\n",
              "      <td>1</td>\n",
              "      <td>2</td>\n",
              "      <td>Fifteen Million Merits</td>\n",
              "      <td>2011-12-11</td>\n",
              "      <td>62</td>\n",
              "      <td>8.8</td>\n",
              "      <td>8.0</td>\n",
              "      <td>future</td>\n",
              "      <td>Channel 4</td>\n",
              "      <td>Euros Lyn</td>\n",
              "      <td>In a world where people's lives consist of rid...</td>\n",
              "    </tr>\n",
              "    <tr>\n",
              "      <th>2</th>\n",
              "      <td>1</td>\n",
              "      <td>3</td>\n",
              "      <td>The Entire History of You</td>\n",
              "      <td>2011-12-18</td>\n",
              "      <td>49</td>\n",
              "      <td>9.3</td>\n",
              "      <td>8.5</td>\n",
              "      <td>future</td>\n",
              "      <td>Channel 4</td>\n",
              "      <td>Brian Welsh</td>\n",
              "      <td>In the near future, everyone has access to a m...</td>\n",
              "    </tr>\n",
              "    <tr>\n",
              "      <th>3</th>\n",
              "      <td>2</td>\n",
              "      <td>1</td>\n",
              "      <td>Be Right Back</td>\n",
              "      <td>2013-02-11</td>\n",
              "      <td>49</td>\n",
              "      <td>7.7</td>\n",
              "      <td>8.0</td>\n",
              "      <td>future</td>\n",
              "      <td>Channel 4</td>\n",
              "      <td>Owen Harris</td>\n",
              "      <td>After learning about a new service that lets p...</td>\n",
              "    </tr>\n",
              "    <tr>\n",
              "      <th>4</th>\n",
              "      <td>2</td>\n",
              "      <td>2</td>\n",
              "      <td>White Bear</td>\n",
              "      <td>2013-02-18</td>\n",
              "      <td>42</td>\n",
              "      <td>6.7</td>\n",
              "      <td>8.0</td>\n",
              "      <td>future</td>\n",
              "      <td>Channel 4</td>\n",
              "      <td>Carl Tibbetts</td>\n",
              "      <td>Victoria wakes up and cannot remember anything...</td>\n",
              "    </tr>\n",
              "  </tbody>\n",
              "</table>\n",
              "</div>\n",
              "      <button class=\"colab-df-convert\" onclick=\"convertToInteractive('df-54ae00f7-8904-4c7a-be4b-9d9e8db8359e')\"\n",
              "              title=\"Convert this dataframe to an interactive table.\"\n",
              "              style=\"display:none;\">\n",
              "        \n",
              "  <svg xmlns=\"http://www.w3.org/2000/svg\" height=\"24px\"viewBox=\"0 0 24 24\"\n",
              "       width=\"24px\">\n",
              "    <path d=\"M0 0h24v24H0V0z\" fill=\"none\"/>\n",
              "    <path d=\"M18.56 5.44l.94 2.06.94-2.06 2.06-.94-2.06-.94-.94-2.06-.94 2.06-2.06.94zm-11 1L8.5 8.5l.94-2.06 2.06-.94-2.06-.94L8.5 2.5l-.94 2.06-2.06.94zm10 10l.94 2.06.94-2.06 2.06-.94-2.06-.94-.94-2.06-.94 2.06-2.06.94z\"/><path d=\"M17.41 7.96l-1.37-1.37c-.4-.4-.92-.59-1.43-.59-.52 0-1.04.2-1.43.59L10.3 9.45l-7.72 7.72c-.78.78-.78 2.05 0 2.83L4 21.41c.39.39.9.59 1.41.59.51 0 1.02-.2 1.41-.59l7.78-7.78 2.81-2.81c.8-.78.8-2.07 0-2.86zM5.41 20L4 18.59l7.72-7.72 1.47 1.35L5.41 20z\"/>\n",
              "  </svg>\n",
              "      </button>\n",
              "      \n",
              "  <style>\n",
              "    .colab-df-container {\n",
              "      display:flex;\n",
              "      flex-wrap:wrap;\n",
              "      gap: 12px;\n",
              "    }\n",
              "\n",
              "    .colab-df-convert {\n",
              "      background-color: #E8F0FE;\n",
              "      border: none;\n",
              "      border-radius: 50%;\n",
              "      cursor: pointer;\n",
              "      display: none;\n",
              "      fill: #1967D2;\n",
              "      height: 32px;\n",
              "      padding: 0 0 0 0;\n",
              "      width: 32px;\n",
              "    }\n",
              "\n",
              "    .colab-df-convert:hover {\n",
              "      background-color: #E2EBFA;\n",
              "      box-shadow: 0px 1px 2px rgba(60, 64, 67, 0.3), 0px 1px 3px 1px rgba(60, 64, 67, 0.15);\n",
              "      fill: #174EA6;\n",
              "    }\n",
              "\n",
              "    [theme=dark] .colab-df-convert {\n",
              "      background-color: #3B4455;\n",
              "      fill: #D2E3FC;\n",
              "    }\n",
              "\n",
              "    [theme=dark] .colab-df-convert:hover {\n",
              "      background-color: #434B5C;\n",
              "      box-shadow: 0px 1px 3px 1px rgba(0, 0, 0, 0.15);\n",
              "      filter: drop-shadow(0px 1px 2px rgba(0, 0, 0, 0.3));\n",
              "      fill: #FFFFFF;\n",
              "    }\n",
              "  </style>\n",
              "\n",
              "      <script>\n",
              "        const buttonEl =\n",
              "          document.querySelector('#df-54ae00f7-8904-4c7a-be4b-9d9e8db8359e button.colab-df-convert');\n",
              "        buttonEl.style.display =\n",
              "          google.colab.kernel.accessAllowed ? 'block' : 'none';\n",
              "\n",
              "        async function convertToInteractive(key) {\n",
              "          const element = document.querySelector('#df-54ae00f7-8904-4c7a-be4b-9d9e8db8359e');\n",
              "          const dataTable =\n",
              "            await google.colab.kernel.invokeFunction('convertToInteractive',\n",
              "                                                     [key], {});\n",
              "          if (!dataTable) return;\n",
              "\n",
              "          const docLinkHtml = 'Like what you see? Visit the ' +\n",
              "            '<a target=\"_blank\" href=https://colab.research.google.com/notebooks/data_table.ipynb>data table notebook</a>'\n",
              "            + ' to learn more about interactive tables.';\n",
              "          element.innerHTML = '';\n",
              "          dataTable['output_type'] = 'display_data';\n",
              "          await google.colab.output.renderOutput(dataTable, element);\n",
              "          const docLink = document.createElement('div');\n",
              "          docLink.innerHTML = docLinkHtml;\n",
              "          element.appendChild(docLink);\n",
              "        }\n",
              "      </script>\n",
              "    </div>\n",
              "  </div>\n",
              "  "
            ]
          },
          "metadata": {},
          "execution_count": 6
        }
      ]
    },
    {
      "cell_type": "code",
      "source": [
        "# check for any null values in the dataset\n",
        "num_nulls = bm.isnull().sum().sum()\n",
        "print('The number of nulls in the dataset is', num_nulls)"
      ],
      "metadata": {
        "colab": {
          "base_uri": "https://localhost:8080/"
        },
        "id": "8lEChmQvetcv",
        "outputId": "dcf410ea-b26a-4c9b-c5df-6f5bb3cab3b2"
      },
      "execution_count": null,
      "outputs": [
        {
          "output_type": "stream",
          "name": "stdout",
          "text": [
            "The number of nulls in the dataset is 0\n"
          ]
        }
      ]
    },
    {
      "cell_type": "markdown",
      "source": [
        "#### Change Data Types"
      ],
      "metadata": {
        "id": "0fNUHgWs60PZ"
      }
    },
    {
      "cell_type": "code",
      "source": [
        "# find data types\n",
        "bm.dtypes"
      ],
      "metadata": {
        "colab": {
          "base_uri": "https://localhost:8080/"
        },
        "id": "LbL-y4YLjJul",
        "outputId": "a43882de-7882-4419-d4f9-0da40f1fc43a"
      },
      "execution_count": null,
      "outputs": [
        {
          "output_type": "execute_result",
          "data": {
            "text/plain": [
              "season            int64\n",
              "episode           int64\n",
              "title            object\n",
              "release_date     object\n",
              "length_min        int64\n",
              "my_rating       float64\n",
              "imdb_rating     float64\n",
              "timeframe        object\n",
              "network          object\n",
              "director         object\n",
              "description      object\n",
              "dtype: object"
            ]
          },
          "metadata": {},
          "execution_count": 8
        }
      ]
    },
    {
      "cell_type": "code",
      "source": [
        "# change release_date data type to datetime\n",
        "bm['release_date'] = pd.to_datetime(bm['release_date'])\n",
        "\n",
        "# change title, director, and description data types to strings\n",
        "str_cols = ['title', 'director', 'description']\n",
        "bm[str_cols] = bm[str_cols].astype('string')\n",
        "\n",
        "# change timeframe and network data types to categoricals\n",
        "bm['timeframe'] = bm['timeframe'].astype(\n",
        "    pd.CategoricalDtype(categories=['past', 'present', 'future']))\n",
        "\n",
        "bm['network'] = bm['network'].astype(\n",
        "    pd.CategoricalDtype(categories=['Channel 4', 'Netflix']))\n",
        "\n",
        "# check the changes\n",
        "bm.dtypes"
      ],
      "metadata": {
        "id": "79T6RAYpmpbT",
        "colab": {
          "base_uri": "https://localhost:8080/"
        },
        "outputId": "81352b8a-0a80-46bf-e7c1-4e8e06dd969b"
      },
      "execution_count": null,
      "outputs": [
        {
          "output_type": "execute_result",
          "data": {
            "text/plain": [
              "season                   int64\n",
              "episode                  int64\n",
              "title                   string\n",
              "release_date    datetime64[ns]\n",
              "length_min               int64\n",
              "my_rating              float64\n",
              "imdb_rating            float64\n",
              "timeframe             category\n",
              "network               category\n",
              "director                string\n",
              "description             string\n",
              "dtype: object"
            ]
          },
          "metadata": {},
          "execution_count": 9
        }
      ]
    },
    {
      "cell_type": "markdown",
      "source": [
        "## Univariate Analysis"
      ],
      "metadata": {
        "id": "QX9QmlHTd-UA"
      }
    },
    {
      "cell_type": "markdown",
      "source": [
        "#### Numerical Variables"
      ],
      "metadata": {
        "id": "CQjAH43d7BBV"
      }
    },
    {
      "cell_type": "code",
      "source": [
        "# numerical descriptive summary statistics\n",
        "bm[['length_min', 'my_rating', 'imdb_rating']].describe()"
      ],
      "metadata": {
        "colab": {
          "base_uri": "https://localhost:8080/",
          "height": 300
        },
        "id": "T86VnFZLjsr1",
        "outputId": "aaa6ca69-0a28-4da0-9735-561bd842bfed"
      },
      "execution_count": null,
      "outputs": [
        {
          "output_type": "execute_result",
          "data": {
            "text/plain": [
              "       length_min  my_rating  imdb_rating\n",
              "count   27.000000  27.000000    27.000000\n",
              "mean    59.407407   7.066667     7.670370\n",
              "std     12.677234   1.645273     0.882224\n",
              "min     41.000000   4.100000     5.300000\n",
              "25%     50.500000   6.000000     7.300000\n",
              "50%     59.000000   7.000000     7.700000\n",
              "75%     68.000000   8.200000     8.350000\n",
              "max     89.000000  10.000000     9.100000"
            ],
            "text/html": [
              "\n",
              "  <div id=\"df-a1372592-be42-4d45-8595-4acc03e9b7e3\">\n",
              "    <div class=\"colab-df-container\">\n",
              "      <div>\n",
              "<style scoped>\n",
              "    .dataframe tbody tr th:only-of-type {\n",
              "        vertical-align: middle;\n",
              "    }\n",
              "\n",
              "    .dataframe tbody tr th {\n",
              "        vertical-align: top;\n",
              "    }\n",
              "\n",
              "    .dataframe thead th {\n",
              "        text-align: right;\n",
              "    }\n",
              "</style>\n",
              "<table border=\"1\" class=\"dataframe\">\n",
              "  <thead>\n",
              "    <tr style=\"text-align: right;\">\n",
              "      <th></th>\n",
              "      <th>length_min</th>\n",
              "      <th>my_rating</th>\n",
              "      <th>imdb_rating</th>\n",
              "    </tr>\n",
              "  </thead>\n",
              "  <tbody>\n",
              "    <tr>\n",
              "      <th>count</th>\n",
              "      <td>27.000000</td>\n",
              "      <td>27.000000</td>\n",
              "      <td>27.000000</td>\n",
              "    </tr>\n",
              "    <tr>\n",
              "      <th>mean</th>\n",
              "      <td>59.407407</td>\n",
              "      <td>7.066667</td>\n",
              "      <td>7.670370</td>\n",
              "    </tr>\n",
              "    <tr>\n",
              "      <th>std</th>\n",
              "      <td>12.677234</td>\n",
              "      <td>1.645273</td>\n",
              "      <td>0.882224</td>\n",
              "    </tr>\n",
              "    <tr>\n",
              "      <th>min</th>\n",
              "      <td>41.000000</td>\n",
              "      <td>4.100000</td>\n",
              "      <td>5.300000</td>\n",
              "    </tr>\n",
              "    <tr>\n",
              "      <th>25%</th>\n",
              "      <td>50.500000</td>\n",
              "      <td>6.000000</td>\n",
              "      <td>7.300000</td>\n",
              "    </tr>\n",
              "    <tr>\n",
              "      <th>50%</th>\n",
              "      <td>59.000000</td>\n",
              "      <td>7.000000</td>\n",
              "      <td>7.700000</td>\n",
              "    </tr>\n",
              "    <tr>\n",
              "      <th>75%</th>\n",
              "      <td>68.000000</td>\n",
              "      <td>8.200000</td>\n",
              "      <td>8.350000</td>\n",
              "    </tr>\n",
              "    <tr>\n",
              "      <th>max</th>\n",
              "      <td>89.000000</td>\n",
              "      <td>10.000000</td>\n",
              "      <td>9.100000</td>\n",
              "    </tr>\n",
              "  </tbody>\n",
              "</table>\n",
              "</div>\n",
              "      <button class=\"colab-df-convert\" onclick=\"convertToInteractive('df-a1372592-be42-4d45-8595-4acc03e9b7e3')\"\n",
              "              title=\"Convert this dataframe to an interactive table.\"\n",
              "              style=\"display:none;\">\n",
              "        \n",
              "  <svg xmlns=\"http://www.w3.org/2000/svg\" height=\"24px\"viewBox=\"0 0 24 24\"\n",
              "       width=\"24px\">\n",
              "    <path d=\"M0 0h24v24H0V0z\" fill=\"none\"/>\n",
              "    <path d=\"M18.56 5.44l.94 2.06.94-2.06 2.06-.94-2.06-.94-.94-2.06-.94 2.06-2.06.94zm-11 1L8.5 8.5l.94-2.06 2.06-.94-2.06-.94L8.5 2.5l-.94 2.06-2.06.94zm10 10l.94 2.06.94-2.06 2.06-.94-2.06-.94-.94-2.06-.94 2.06-2.06.94z\"/><path d=\"M17.41 7.96l-1.37-1.37c-.4-.4-.92-.59-1.43-.59-.52 0-1.04.2-1.43.59L10.3 9.45l-7.72 7.72c-.78.78-.78 2.05 0 2.83L4 21.41c.39.39.9.59 1.41.59.51 0 1.02-.2 1.41-.59l7.78-7.78 2.81-2.81c.8-.78.8-2.07 0-2.86zM5.41 20L4 18.59l7.72-7.72 1.47 1.35L5.41 20z\"/>\n",
              "  </svg>\n",
              "      </button>\n",
              "      \n",
              "  <style>\n",
              "    .colab-df-container {\n",
              "      display:flex;\n",
              "      flex-wrap:wrap;\n",
              "      gap: 12px;\n",
              "    }\n",
              "\n",
              "    .colab-df-convert {\n",
              "      background-color: #E8F0FE;\n",
              "      border: none;\n",
              "      border-radius: 50%;\n",
              "      cursor: pointer;\n",
              "      display: none;\n",
              "      fill: #1967D2;\n",
              "      height: 32px;\n",
              "      padding: 0 0 0 0;\n",
              "      width: 32px;\n",
              "    }\n",
              "\n",
              "    .colab-df-convert:hover {\n",
              "      background-color: #E2EBFA;\n",
              "      box-shadow: 0px 1px 2px rgba(60, 64, 67, 0.3), 0px 1px 3px 1px rgba(60, 64, 67, 0.15);\n",
              "      fill: #174EA6;\n",
              "    }\n",
              "\n",
              "    [theme=dark] .colab-df-convert {\n",
              "      background-color: #3B4455;\n",
              "      fill: #D2E3FC;\n",
              "    }\n",
              "\n",
              "    [theme=dark] .colab-df-convert:hover {\n",
              "      background-color: #434B5C;\n",
              "      box-shadow: 0px 1px 3px 1px rgba(0, 0, 0, 0.15);\n",
              "      filter: drop-shadow(0px 1px 2px rgba(0, 0, 0, 0.3));\n",
              "      fill: #FFFFFF;\n",
              "    }\n",
              "  </style>\n",
              "\n",
              "      <script>\n",
              "        const buttonEl =\n",
              "          document.querySelector('#df-a1372592-be42-4d45-8595-4acc03e9b7e3 button.colab-df-convert');\n",
              "        buttonEl.style.display =\n",
              "          google.colab.kernel.accessAllowed ? 'block' : 'none';\n",
              "\n",
              "        async function convertToInteractive(key) {\n",
              "          const element = document.querySelector('#df-a1372592-be42-4d45-8595-4acc03e9b7e3');\n",
              "          const dataTable =\n",
              "            await google.colab.kernel.invokeFunction('convertToInteractive',\n",
              "                                                     [key], {});\n",
              "          if (!dataTable) return;\n",
              "\n",
              "          const docLinkHtml = 'Like what you see? Visit the ' +\n",
              "            '<a target=\"_blank\" href=https://colab.research.google.com/notebooks/data_table.ipynb>data table notebook</a>'\n",
              "            + ' to learn more about interactive tables.';\n",
              "          element.innerHTML = '';\n",
              "          dataTable['output_type'] = 'display_data';\n",
              "          await google.colab.output.renderOutput(dataTable, element);\n",
              "          const docLink = document.createElement('div');\n",
              "          docLink.innerHTML = docLinkHtml;\n",
              "          element.appendChild(docLink);\n",
              "        }\n",
              "      </script>\n",
              "    </div>\n",
              "  </div>\n",
              "  "
            ]
          },
          "metadata": {},
          "execution_count": 10
        }
      ]
    },
    {
      "cell_type": "markdown",
      "source": [
        "##### Episode Length"
      ],
      "metadata": {
        "id": "gKTzvBVl7dod"
      }
    },
    {
      "cell_type": "code",
      "source": [
        "# set custom bin width\n",
        "bin_width = 5\n",
        "bin_edges = np.arange(min(bm['length_min']),\n",
        "                      max(bm['length_min']) + bin_width,\n",
        "                      bin_width)\n",
        "\n",
        "# create histogram\n",
        "plt.hist(bm['length_min'], bins=bin_edges, edgecolor='black')\n",
        "\n",
        "# labels\n",
        "plt.xlabel('Episode Length (min)')\n",
        "plt.ylabel('Frequency')\n",
        "plt.title('Distribution of Episode Length')\n",
        "\n",
        "# show & close plot\n",
        "plt.show()\n",
        "plt.close()"
      ],
      "metadata": {
        "colab": {
          "base_uri": "https://localhost:8080/",
          "height": 472
        },
        "id": "Mn7FWQ_JmprB",
        "outputId": "5052f257-e528-4779-ef14-756d4fc7ac9b"
      },
      "execution_count": null,
      "outputs": [
        {
          "output_type": "display_data",
          "data": {
            "text/plain": [
              "<Figure size 640x480 with 1 Axes>"
            ],
            "image/png": "[encoded data removed]"
          },
          "metadata": {}
        }
      ]
    },
    {
      "cell_type": "markdown",
      "source": [
        "#### Categorical Variables"
      ],
      "metadata": {
        "id": "HyULQwchjWd2"
      }
    },
    {
      "cell_type": "markdown",
      "source": [
        "##### Time Frame"
      ],
      "metadata": {
        "id": "XuyuF1QP7SHe"
      }
    },
    {
      "cell_type": "code",
      "source": [
        "# pie chart for time frame\n",
        "labels = ['past', 'present', 'future']\n",
        "sizes = bm.groupby('timeframe').title.count()\n",
        "\n",
        "fig, ax = plt.subplots()\n",
        "ax.pie(sizes, labels=labels, autopct='%1.1f%%', startangle=90)\n",
        "\n",
        "# labels\n",
        "ax.axis('equal')\n",
        "ax.legend(labels, loc='best')\n",
        "plt.title('Episodes by Time Frame')\n",
        "\n",
        "# show & close plot\n",
        "plt.show()\n",
        "plt.close()"
      ],
      "metadata": {
        "colab": {
          "base_uri": "https://localhost:8080/",
          "height": 428
        },
        "id": "u6-ZA7S6hlU-",
        "outputId": "dfefb83d-e67a-4a64-cf77-575e4d77d345"
      },
      "execution_count": null,
      "outputs": [
        {
          "output_type": "display_data",
          "data": {
            "text/plain": [
              "<Figure size 640x480 with 1 Axes>"
            ],
            "image/png": "[encoded data removed]"
          },
          "metadata": {}
        }
      ]
    },
    {
      "cell_type": "markdown",
      "source": [
        "##### Network"
      ],
      "metadata": {
        "id": "iihAr-hZ7Yh4"
      }
    },
    {
      "cell_type": "code",
      "source": [
        "# pie chart for network\n",
        "labels = ['Channel 4', 'Netflix']\n",
        "sizes = bm.groupby('network').title.count()\n",
        "\n",
        "fig, ax = plt.subplots()\n",
        "ax.pie(sizes, labels=labels, autopct='%1.1f%%', startangle=90)\n",
        "\n",
        "# labels\n",
        "ax.axis('equal')\n",
        "ax.legend(labels, loc='best')\n",
        "plt.title('Episodes by Network')\n",
        "\n",
        "# show & close plot\n",
        "plt.show()\n",
        "plt.close()"
      ],
      "metadata": {
        "colab": {
          "base_uri": "https://localhost:8080/",
          "height": 428
        },
        "id": "c6asYwLog7U_",
        "outputId": "b5a69b59-1136-4e20-f635-fb10664b5311"
      },
      "execution_count": null,
      "outputs": [
        {
          "output_type": "display_data",
          "data": {
            "text/plain": [
              "<Figure size 640x480 with 1 Axes>"
            ],
            "image/png": "[encoded data removed]"
          },
          "metadata": {}
        }
      ]
    },
    {
      "cell_type": "markdown",
      "source": [
        "### Multivariate Analysis"
      ],
      "metadata": {
        "id": "6DzAI2mheDkT"
      }
    },
    {
      "cell_type": "markdown",
      "source": [
        "#### Episodes by Season"
      ],
      "metadata": {
        "id": "d5elPWYu7AGF"
      }
    },
    {
      "cell_type": "code",
      "source": [
        "# creates a series containing the number of episodes per season\n",
        "season_counts = bm.season.value_counts().sort_index()\n",
        "print(season_counts)"
      ],
      "metadata": {
        "colab": {
          "base_uri": "https://localhost:8080/"
        },
        "id": "stFNFEehkTnf",
        "outputId": "1c884e2f-6026-4f19-f23f-3e631667e37a"
      },
      "execution_count": null,
      "outputs": [
        {
          "output_type": "stream",
          "name": "stdout",
          "text": [
            "1    3\n",
            "2    4\n",
            "3    6\n",
            "4    6\n",
            "5    3\n",
            "6    5\n",
            "Name: season, dtype: int64\n"
          ]
        }
      ]
    },
    {
      "cell_type": "code",
      "source": [
        "# bar chart for number of episodes in each season\n",
        "x_axis = bm['season'].unique()\n",
        "y_axis = season_counts\n",
        "\n",
        "plt.bar(x_axis, y_axis)\n",
        "\n",
        "# labels\n",
        "plt.title('Number of Episodes per Season')\n",
        "plt.xlabel('Season')\n",
        "plt.ylabel('Number of Episodes')\n",
        "\n",
        "# show & close plot\n",
        "plt.show()\n",
        "plt.close()"
      ],
      "metadata": {
        "colab": {
          "base_uri": "https://localhost:8080/",
          "height": 472
        },
        "id": "ugsGSWlWj40a",
        "outputId": "8de19ab6-eacd-4739-ba56-5aac57e21d53"
      },
      "execution_count": null,
      "outputs": [
        {
          "output_type": "display_data",
          "data": {
            "text/plain": [
              "<Figure size 640x480 with 1 Axes>"
            ],
            "image/png": "[encoded data removed]"
          },
          "metadata": {}
        }
      ]
    },
    {
      "cell_type": "markdown",
      "source": [
        "#### Rating by Season"
      ],
      "metadata": {
        "id": "sNax0yKhQl2V"
      }
    },
    {
      "cell_type": "code",
      "source": [
        "# table showing average my_rating & imdb_rating, grouped by season\n",
        "myrating = bm.groupby('season').my_rating.mean()\n",
        "imdbrating = bm.groupby('season').imdb_rating.mean()\n",
        "\n",
        "ratings_byseason = pd.DataFrame({'My Rating': myrating,\n",
        "                                 'IMDb Rating': imdbrating})\n",
        "\n",
        "print(ratings_byseason)"
      ],
      "metadata": {
        "colab": {
          "base_uri": "https://localhost:8080/"
        },
        "id": "S81qbKx0WkeN",
        "outputId": "90b8b7b9-1dc4-4262-de82-cae929b60335"
      },
      "execution_count": null,
      "outputs": [
        {
          "output_type": "stream",
          "name": "stdout",
          "text": [
            "        My Rating  IMDb Rating\n",
            "season                        \n",
            "1        7.533333     8.066667\n",
            "2        7.375000     7.925000\n",
            "3        7.816667     8.233333\n",
            "4        6.666667     7.800000\n",
            "5        6.766667     6.833333\n",
            "6        6.300000     6.900000\n"
          ]
        }
      ]
    },
    {
      "cell_type": "code",
      "source": [
        "# clustered bar chart showing the data from the previously created df\n",
        "categories = [1, 2, 3, 4, 5, 6]\n",
        "\n",
        "# set the positions of the bars on the x-axis\n",
        "bar_width = 0.3\n",
        "x = np.arange(len(categories))\n",
        "\n",
        "# create the figure and axes\n",
        "fig, ax = plt.subplots()\n",
        "\n",
        "# plot bars for each group\n",
        "rects1 = ax.bar(x - bar_width/2, myrating, bar_width, label='My Rating')\n",
        "rects2 = ax.bar(x + bar_width/2, imdbrating, bar_width, label='IMDb Rating')\n",
        "\n",
        "# labels\n",
        "ax.set_xlabel('Season')\n",
        "ax.set_ylabel('Rating')\n",
        "ax.set_title('Average Rating by Season')\n",
        "ax.set_xticks(x)\n",
        "ax.set_xticklabels(categories)\n",
        "ax.legend()\n",
        "\n",
        "# show & close plot\n",
        "plt.show()\n",
        "plt.close()"
      ],
      "metadata": {
        "colab": {
          "base_uri": "https://localhost:8080/",
          "height": 472
        },
        "id": "nkKpLOyYbw_D",
        "outputId": "60f19815-0690-412f-8649-8adc695990c7"
      },
      "execution_count": null,
      "outputs": [
        {
          "output_type": "display_data",
          "data": {
            "text/plain": [
              "<Figure size 640x480 with 1 Axes>"
            ],
            "image/png": "[encoded data removed]"
          },
          "metadata": {}
        }
      ]
    },
    {
      "cell_type": "markdown",
      "source": [
        "#### Relationship Between My Rating and IMDb Rating"
      ],
      "metadata": {
        "id": "kTOyo5Iy7n8b"
      }
    },
    {
      "cell_type": "code",
      "source": [
        "# stacked histogram of the univariate distribution of my_rating & imdb_rating\n",
        "plt.hist(bm['my_rating'], color='blue', label='My Rating', alpha=0.5)\n",
        "plt.hist(bm['imdb_rating'] , color='red', label='IMDb Rating', alpha=0.5)\n",
        "\n",
        "# labels\n",
        "plt.legend()\n",
        "plt.xlabel('Rating out of 10')\n",
        "plt.ylabel('Frequency')\n",
        "plt.title('Distribution of Ratings')\n",
        "\n",
        "# show & close plot\n",
        "plt.show()\n",
        "plt.close()"
      ],
      "metadata": {
        "colab": {
          "base_uri": "https://localhost:8080/",
          "height": 472
        },
        "id": "bYSDyZH7ph63",
        "outputId": "30d4710f-ef6a-4154-e129-a6467cdfe6bf"
      },
      "execution_count": null,
      "outputs": [
        {
          "output_type": "display_data",
          "data": {
            "text/plain": [
              "<Figure size 640x480 with 1 Axes>"
            ],
            "image/png": "[encoded data removed]"
          },
          "metadata": {}
        }
      ]
    },
    {
      "cell_type": "code",
      "source": [
        "# scatter plot of my_rating vs. imdb_rating\n",
        "# calculate line of best fit\n",
        "m, b = np.polyfit(bm['my_rating'], bm['imdb_rating'], 1) # 1 for linear\n",
        "line_of_best_fit = m * bm['my_rating'] + b\n",
        "\n",
        "# create scatterplot\n",
        "plt.scatter(x = bm['my_rating'], y = bm['imdb_rating'])\n",
        "plt.plot(bm['my_rating'], line_of_best_fit, color='red')\n",
        "\n",
        "# create labels\n",
        "plt.xlabel('My Rating')\n",
        "plt.ylabel('IMDb Rating')\n",
        "plt.title('Rating by Episode')\n",
        "\n",
        "# show plot\n",
        "plt.show()\n",
        "plt.close()"
      ],
      "metadata": {
        "colab": {
          "base_uri": "https://localhost:8080/",
          "height": 472
        },
        "id": "cXe1zzTBSnCe",
        "outputId": "90cd3e02-897c-4795-979d-ac1352379571"
      },
      "execution_count": null,
      "outputs": [
        {
          "output_type": "display_data",
          "data": {
            "text/plain": [
              "<Figure size 640x480 with 1 Axes>"
            ],
            "image/png": "[encoded data removed]"
          },
          "metadata": {}
        }
      ]
    },
    {
      "cell_type": "code",
      "source": [
        "# calculate linear regression stats\n",
        "m, b = np.polyfit(bm['my_rating'], bm['imdb_rating'], 1)\n",
        "corr_rating, p = pearsonr(bm['my_rating'], bm['imdb_rating'])\n",
        "print('y = m * x + b')\n",
        "print('imdb_rating =', round(m, 2), '* my_rating +', round(b, 2))\n",
        "print('correlation coefficient: ', round(corr_rating, 4))"
      ],
      "metadata": {
        "colab": {
          "base_uri": "https://localhost:8080/"
        },
        "id": "vpeyXV_jUMsH",
        "outputId": "f56a28e3-6450-4d11-e654-3ba243318729"
      },
      "execution_count": null,
      "outputs": [
        {
          "output_type": "stream",
          "name": "stdout",
          "text": [
            "y = m * x + b\n",
            "imdb_rating = 0.32 * my_rating + 5.41\n",
            "correlation coefficient:  0.5966\n"
          ]
        }
      ]
    },
    {
      "cell_type": "markdown",
      "source": [
        "## Conclusions"
      ],
      "metadata": {
        "id": "ktOogI7k75FH"
      }
    },
    {
      "cell_type": "markdown",
      "source": [
        "\n",
        "\n",
        "*   The average episode is approximately an **hour long**\n",
        "*   The majority of episodes (70%) take place in the **future**\n",
        "*   Most of the episodes (74%) aired on **Netflix**\n",
        "*   On average, **my ratings are lower** than the IMDb ratings and have a **wider spread** (larger standard deviation)\n",
        "*   On average, both my ratings and IMDb ratings have been **declining over the seasons**\n",
        "*   There is a **moderate positive correlation** (r = 0.5966) between my rating and the IMDb rating of an episode, indicating that my opinion on an episode is somewhat in line with the general sentiment of that episode\n",
        "\n"
      ],
      "metadata": {
        "id": "OtgMeuzp79HR"
      }
    }
  ]
}